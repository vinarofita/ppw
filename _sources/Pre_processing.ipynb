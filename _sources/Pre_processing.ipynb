{
  "nbformat": 4,
  "nbformat_minor": 0,
  "metadata": {
    "colab": {
      "provenance": []
    },
    "kernelspec": {
      "name": "python3",
      "display_name": "Python 3"
    },
    "language_info": {
      "name": "python"
    }
  },
  "cells": [
    {
      "cell_type": "markdown",
      "source": [
        "## **Pre-Processing Text**\n",
        "\n",
        "Datasetnya berupa hasil crawling PTA dan Berita melalui website detik.com\n",
        "\n"
      ],
      "metadata": {
        "id": "poq6tMfIa_1M"
      }
    },
    {
      "cell_type": "markdown",
      "source": [
        "# Load Dataset PTA"
      ],
      "metadata": {
        "id": "U6eAXQjXevqk"
      }
    },
    {
      "cell_type": "code",
      "execution_count": 2,
      "metadata": {
        "colab": {
          "base_uri": "https://localhost:8080/"
        },
        "id": "Hj57Y74JN5vn",
        "outputId": "c9d06a6e-6c5d-4cc1-cfca-db7350501a24"
      },
      "outputs": [
        {
          "output_type": "stream",
          "name": "stdout",
          "text": [
            "Mounted at /content/drive\n"
          ]
        }
      ],
      "source": [
        "from google.colab import drive\n",
        "drive.mount('/content/drive')"
      ]
    },
    {
      "cell_type": "code",
      "source": [
        "import pandas as pd\n",
        "\n",
        "df = pd.read_csv('/content/drive/MyDrive/semester 5/ppw/pta_fatek_5halaman.csv')\n",
        "print(df.head())"
      ],
      "metadata": {
        "colab": {
          "base_uri": "https://localhost:8080/"
        },
        "id": "XfQa7yw4akts",
        "outputId": "92356054-0601-4af4-ef5c-61e8e8559db1"
      },
      "execution_count": 24,
      "outputs": [
        {
          "output_type": "stream",
          "name": "stdout",
          "text": [
            "                 penulis                                              judul  \\\n",
            "0     A.Ubaidillah S.Kom  PERANCANGAN DAN IMPLEMENTASI SISTEM DATABASE \\...   \n",
            "1    M. Basith Ardianto,  APLIKASI KONTROL DAN MONITORING JARINGAN KOMPU...   \n",
            "2  Akhmad Suyandi, S.Kom  RANCANG BANGUN APLIKASI PROXY SERVER UNTUK\\r\\n...   \n",
            "3        Heri Supriyanto  SISTEM PENDUKUNG KEPUTUSAN OPTIMASI PENJADWALA...   \n",
            "4   Septian Rahman Hakim  SISTEM AUGMENTED REALITY ANIMASI BENDA BERGERA...   \n",
            "\n",
            "              pembimbing_pertama pembimbing_kedua  \\\n",
            "0               Budi Setyono M.T              NaN   \n",
            "1          Drs. Budi Soesilo, MT              NaN   \n",
            "2         Drs. Budi Soesilo, M.T              NaN   \n",
            "3           Mulaab, S.Si., M.Kom              NaN   \n",
            "4  Arik Kurniawati, S.Kom., M.T.              NaN   \n",
            "\n",
            "                                             abstrak               prodi  \n",
            "0  Sistem  informasi  akademik  (SIAKAD) merupaka...  Teknik Informatika  \n",
            "1  Berjalannya koneksi jaringan komputer dengan l...  Teknik Informatika  \n",
            "2  Web server adalah sebuah perangkat lunak serve...  Teknik Informatika  \n",
            "3  Penjadwalan  kuliah  di  Perguruan  Tinggi  me...  Teknik Informatika  \n",
            "4  Seiring perkembangan teknologi yang ada diduni...  Teknik Informatika  \n"
          ]
        }
      ]
    },
    {
      "cell_type": "markdown",
      "source": [
        "### **1. Penghapusan Kata Umum (Stop Word)**\n",
        "\n",
        "Menghapus kata-kata umum (indonesia)"
      ],
      "metadata": {
        "id": "DhSPV3EgQL9l"
      }
    },
    {
      "cell_type": "code",
      "source": [
        "import pandas as pd\n",
        "import nltk\n",
        "from nltk.corpus import stopwords\n",
        "\n",
        "# Download stopwords bahasa Indonesia\n",
        "nltk.download('stopwords')\n",
        "\n",
        "# Load dataset\n",
        "df = pd.read_csv(\"/content/drive/MyDrive/semester 5/ppw/pta_fatek_5halaman.csv\")  # ganti dengan nama file kamu\n",
        "\n",
        "# Ambil kolom abstrak\n",
        "df = df[[ 'abstrak']]\n",
        "\n",
        "# Ambil stopwords bahasa Indonesia\n",
        "stop_words = set(stopwords.words('indonesian'))\n",
        "\n",
        "def remove_stopwords(text):\n",
        "    words = text.lower().split()  # ubah ke huruf kecil & pisah kata\n",
        "    filtered_words = [word for word in words if word not in stop_words]\n",
        "    return \" \".join(filtered_words)\n",
        "\n",
        "# Terapkan stopword removal\n",
        "df['abstrak(stopword)'] = df['abstrak'].astype(str).apply(remove_stopwords)\n",
        "\n",
        "print(df[['abstrak', 'abstrak(stopword)']].head())"
      ],
      "metadata": {
        "colab": {
          "base_uri": "https://localhost:8080/"
        },
        "id": "D3Zt4wyGPp5_",
        "outputId": "5752b27a-dc3b-4e52-e688-dc45dabf2477"
      },
      "execution_count": 10,
      "outputs": [
        {
          "output_type": "stream",
          "name": "stdout",
          "text": [
            "                                             abstrak  \\\n",
            "0  Sistem  informasi  akademik  (SIAKAD) merupaka...   \n",
            "1  Berjalannya koneksi jaringan komputer dengan l...   \n",
            "2  Web server adalah sebuah perangkat lunak serve...   \n",
            "3  Penjadwalan  kuliah  di  Perguruan  Tinggi  me...   \n",
            "4  Seiring perkembangan teknologi yang ada diduni...   \n",
            "\n",
            "                                   abstrak(stopword)  \n",
            "0  sistem informasi akademik (siakad) sistem info...  \n",
            "1  berjalannya koneksi jaringan komputer lancar g...  \n",
            "2  web server perangkat lunak server berfungsi me...  \n",
            "3  penjadwalan kuliah perguruan kompleks. permasa...  \n",
            "4  seiring perkembangan teknologi didunia, muncul...  \n"
          ]
        },
        {
          "output_type": "stream",
          "name": "stderr",
          "text": [
            "[nltk_data] Downloading package stopwords to /root/nltk_data...\n",
            "[nltk_data]   Package stopwords is already up-to-date!\n"
          ]
        }
      ]
    },
    {
      "cell_type": "markdown",
      "source": [
        "### **2. pembersihan Teks**\n",
        "\n",
        "Konversi teks menjadi huruf kecil, menghapus tanda baca, angka, karakter khusus, dan tag HTML."
      ],
      "metadata": {
        "id": "GIcQWefERUUq"
      }
    },
    {
      "cell_type": "code",
      "source": [
        "import re\n",
        "import pandas as pd\n",
        "import nltk\n",
        "from nltk.corpus import stopwords\n",
        "\n",
        "def clean_text(text):\n",
        "    text = text.lower()  # ubah ke huruf kecil\n",
        "    text = re.sub(r'[^\\w\\s]', '', text)  # hapus semua tanda baca (punctuation)\n",
        "    words = text.split()\n",
        "    words = [word for word in words if word not in stop_words]  # hapus stopwords\n",
        "    return \" \".join(words)\n",
        "\n",
        "# Terapkan pembersihan\n",
        "df['abstrak_clean'] = df['abstrak(stopword)'].astype(str).apply(clean_text)\n",
        "\n",
        "print(df[['abstrak','abstrak(stopword)', 'abstrak_clean']].head())"
      ],
      "metadata": {
        "colab": {
          "base_uri": "https://localhost:8080/"
        },
        "id": "eQmKqdr9QEmj",
        "outputId": "cd1c75c2-ae27-4e69-a8f2-3ccb5b594684"
      },
      "execution_count": 12,
      "outputs": [
        {
          "output_type": "stream",
          "name": "stdout",
          "text": [
            "                                             abstrak  \\\n",
            "0  Sistem  informasi  akademik  (SIAKAD) merupaka...   \n",
            "1  Berjalannya koneksi jaringan komputer dengan l...   \n",
            "2  Web server adalah sebuah perangkat lunak serve...   \n",
            "3  Penjadwalan  kuliah  di  Perguruan  Tinggi  me...   \n",
            "4  Seiring perkembangan teknologi yang ada diduni...   \n",
            "\n",
            "                                   abstrak(stopword)  \\\n",
            "0  sistem informasi akademik (siakad) sistem info...   \n",
            "1  berjalannya koneksi jaringan komputer lancar g...   \n",
            "2  web server perangkat lunak server berfungsi me...   \n",
            "3  penjadwalan kuliah perguruan kompleks. permasa...   \n",
            "4  seiring perkembangan teknologi didunia, muncul...   \n",
            "\n",
            "                                       abstrak_clean  \n",
            "0  sistem informasi akademik siakad sistem inform...  \n",
            "1  berjalannya koneksi jaringan komputer lancar g...  \n",
            "2  web server perangkat lunak server berfungsi me...  \n",
            "3  penjadwalan kuliah perguruan kompleks permasal...  \n",
            "4  seiring perkembangan teknologi didunia muncul ...  \n"
          ]
        }
      ]
    },
    {
      "cell_type": "markdown",
      "source": [
        "### **3. Pemeriksaan Ejaan Kata**\n",
        "\n",
        "Memperbaiki kesalahan ejaan dalam teks."
      ],
      "metadata": {
        "id": "7VB8EghjShBE"
      }
    },
    {
      "cell_type": "code",
      "source": [
        "# Kamus kata tidak baku → kata baku\n",
        "kamus_kata = {\n",
        "    \"tehnik\": \"teknik\",\n",
        "    \"yg\": \"yang\",\n",
        "    \"tdk\": \"tidak\",\n",
        "    \"dr\": \"dari\",\n",
        "    \"utk\": \"untuk\",\n",
        "    \"dlm\": \"dalam\",\n",
        "    \"tp\": \"tapi\",\n",
        "    \"jg\": \"juga\",\n",
        "    \"krn\": \"karena\",\n",
        "    \"bkn\": \"bukan\",\n",
        "    \"sdh\": \"sudah\",\n",
        "    \"sm\": \"sama\"\n",
        "}\n",
        "\n",
        "def normalisasi_kata(teks):\n",
        "    kata = teks.split()\n",
        "    kata_baru = []\n",
        "    for k in kata:\n",
        "        # jika ada di kamus_kata → ganti\n",
        "        kata_baru.append(kamus_kata.get(k, k))\n",
        "    return \" \".join(kata_baru)\n",
        "\n",
        "# Terapkan normalisasi\n",
        "df['abstrak(cek ejaan)'] = df['abstrak_clean'].astype(str).apply(normalisasi_kata)\n",
        "\n",
        "print(df[['abstrak','abstrak(stopword)','abstrak_clean', 'abstrak(cek ejaan)']].head())\n"
      ],
      "metadata": {
        "colab": {
          "base_uri": "https://localhost:8080/"
        },
        "id": "-6cBP_CXSi9g",
        "outputId": "0479da2c-9943-483f-b970-b3929ec91a76"
      },
      "execution_count": 13,
      "outputs": [
        {
          "output_type": "stream",
          "name": "stdout",
          "text": [
            "                                             abstrak  \\\n",
            "0  Sistem  informasi  akademik  (SIAKAD) merupaka...   \n",
            "1  Berjalannya koneksi jaringan komputer dengan l...   \n",
            "2  Web server adalah sebuah perangkat lunak serve...   \n",
            "3  Penjadwalan  kuliah  di  Perguruan  Tinggi  me...   \n",
            "4  Seiring perkembangan teknologi yang ada diduni...   \n",
            "\n",
            "                                   abstrak(stopword)  \\\n",
            "0  sistem informasi akademik (siakad) sistem info...   \n",
            "1  berjalannya koneksi jaringan komputer lancar g...   \n",
            "2  web server perangkat lunak server berfungsi me...   \n",
            "3  penjadwalan kuliah perguruan kompleks. permasa...   \n",
            "4  seiring perkembangan teknologi didunia, muncul...   \n",
            "\n",
            "                                       abstrak_clean  \\\n",
            "0  sistem informasi akademik siakad sistem inform...   \n",
            "1  berjalannya koneksi jaringan komputer lancar g...   \n",
            "2  web server perangkat lunak server berfungsi me...   \n",
            "3  penjadwalan kuliah perguruan kompleks permasal...   \n",
            "4  seiring perkembangan teknologi didunia muncul ...   \n",
            "\n",
            "                                  abstrak(cek ejaan)  \n",
            "0  sistem informasi akademik siakad sistem inform...  \n",
            "1  berjalannya koneksi jaringan komputer lancar g...  \n",
            "2  web server perangkat lunak server berfungsi me...  \n",
            "3  penjadwalan kuliah perguruan kompleks permasal...  \n",
            "4  seiring perkembangan teknologi didunia muncul ...  \n"
          ]
        }
      ]
    },
    {
      "cell_type": "markdown",
      "source": [
        "### **4. Stemming dan Lematisasi**\n",
        "\n",
        "Mengurangi kata-kata ke bentuk dasarnya menggunakan stemming dan lemmatisasi."
      ],
      "metadata": {
        "id": "5ElGKJPgTs75"
      }
    },
    {
      "cell_type": "code",
      "source": [
        "!pip install Sastrawi"
      ],
      "metadata": {
        "colab": {
          "base_uri": "https://localhost:8080/"
        },
        "id": "noIrntYRTscM",
        "outputId": "0fbaf410-919a-4aa7-b341-08babd64b938"
      },
      "execution_count": 14,
      "outputs": [
        {
          "output_type": "stream",
          "name": "stdout",
          "text": [
            "Collecting Sastrawi\n",
            "  Downloading Sastrawi-1.0.1-py2.py3-none-any.whl.metadata (909 bytes)\n",
            "Downloading Sastrawi-1.0.1-py2.py3-none-any.whl (209 kB)\n",
            "\u001b[?25l   \u001b[90m━━━━━━━━━━━━━━━━━━━━━━━━━━━━━━━━━━━━━━━━\u001b[0m \u001b[32m0.0/209.7 kB\u001b[0m \u001b[31m?\u001b[0m eta \u001b[36m-:--:--\u001b[0m\r\u001b[2K   \u001b[90m━━━━━━━━━━━━━━━━━━━━━━━━━━━━━━━━━━━━━━━━\u001b[0m \u001b[32m209.7/209.7 kB\u001b[0m \u001b[31m6.4 MB/s\u001b[0m eta \u001b[36m0:00:00\u001b[0m\n",
            "\u001b[?25hInstalling collected packages: Sastrawi\n",
            "Successfully installed Sastrawi-1.0.1\n"
          ]
        }
      ]
    },
    {
      "cell_type": "code",
      "source": [
        "from Sastrawi.Stemmer.StemmerFactory import StemmerFactory\n",
        "\n",
        "# Buat stemmer\n",
        "factory = StemmerFactory()\n",
        "stemmer = factory.create_stemmer()\n",
        "\n",
        "def stemming_indo(teks):\n",
        "    return stemmer.stem(teks)\n",
        "\n",
        "# Terapkan stemming\n",
        "df['abstrak_stem'] = df['abstrak(cek ejaan)'].astype(str).apply(stemming_indo)\n",
        "\n",
        "print(df[['abstrak','abstrak(stopword)','abstrak_clean','abstrak(cek ejaan)', 'abstrak_stem']].head())"
      ],
      "metadata": {
        "colab": {
          "base_uri": "https://localhost:8080/"
        },
        "id": "IbiCJuqbT4Tx",
        "outputId": "9c9ba5e7-99b2-43f5-9fb3-126016e5b914"
      },
      "execution_count": 17,
      "outputs": [
        {
          "output_type": "stream",
          "name": "stdout",
          "text": [
            "                                             abstrak  \\\n",
            "0  Sistem  informasi  akademik  (SIAKAD) merupaka...   \n",
            "1  Berjalannya koneksi jaringan komputer dengan l...   \n",
            "2  Web server adalah sebuah perangkat lunak serve...   \n",
            "3  Penjadwalan  kuliah  di  Perguruan  Tinggi  me...   \n",
            "4  Seiring perkembangan teknologi yang ada diduni...   \n",
            "\n",
            "                                   abstrak(stopword)  \\\n",
            "0  sistem informasi akademik (siakad) sistem info...   \n",
            "1  berjalannya koneksi jaringan komputer lancar g...   \n",
            "2  web server perangkat lunak server berfungsi me...   \n",
            "3  penjadwalan kuliah perguruan kompleks. permasa...   \n",
            "4  seiring perkembangan teknologi didunia, muncul...   \n",
            "\n",
            "                                       abstrak_clean  \\\n",
            "0  sistem informasi akademik siakad sistem inform...   \n",
            "1  berjalannya koneksi jaringan komputer lancar g...   \n",
            "2  web server perangkat lunak server berfungsi me...   \n",
            "3  penjadwalan kuliah perguruan kompleks permasal...   \n",
            "4  seiring perkembangan teknologi didunia muncul ...   \n",
            "\n",
            "                                  abstrak(cek ejaan)  \\\n",
            "0  sistem informasi akademik siakad sistem inform...   \n",
            "1  berjalannya koneksi jaringan komputer lancar g...   \n",
            "2  web server perangkat lunak server berfungsi me...   \n",
            "3  penjadwalan kuliah perguruan kompleks permasal...   \n",
            "4  seiring perkembangan teknologi didunia muncul ...   \n",
            "\n",
            "                                        abstrak_stem  \n",
            "0  sistem informasi akademik siakad sistem inform...  \n",
            "1  jalan koneksi jaring komputer lancar ganggu ha...  \n",
            "2  web server perangkat lunak server fungsi terim...  \n",
            "3  jadwal kuliah guru kompleks masalah variabel t...  \n",
            "4  iring kembang teknologi dunia muncul teknologi...  \n"
          ]
        }
      ]
    },
    {
      "cell_type": "markdown",
      "source": [
        "### **5. Tokenisasi**\n",
        "\n",
        "Membagi teks yang telah olah menjadi token (kata)."
      ],
      "metadata": {
        "id": "BEUJEke-ZXFt"
      }
    },
    {
      "cell_type": "code",
      "source": [
        "def tokenisasi(teks):\n",
        "    # Pisah berdasarkan spasi & hilangkan token kosong\n",
        "    tokens = re.findall(r'\\b\\w+\\b', str(teks))\n",
        "    return tokens\n",
        "\n",
        "# Terapkan tokenisasi\n",
        "df['abstrak_tokens'] = df['abstrak_stem'].apply(tokenisasi)\n",
        "# Contoh hasil\n",
        "print(df[['abstrak','abstrak(stopword)','abstrak_clean','abstrak(cek ejaan)','abstrak_stem', 'abstrak_tokens']].head())\n",
        "\n",
        "# Simpan hasil\n",
        "df.to_csv(\"hasil-pre-pro_abstrak(PTA).csv\", index=False, encoding=\"utf-8-sig\")\n",
        "print(\"✅ Hasil disimpan di hasil-pre-pro_abstrak(PTA).csv\")\n"
      ],
      "metadata": {
        "colab": {
          "base_uri": "https://localhost:8080/"
        },
        "id": "-7fJqR2UZlb_",
        "outputId": "6f9ccbe1-7f43-441e-857b-35fee1f4d48d"
      },
      "execution_count": 19,
      "outputs": [
        {
          "output_type": "stream",
          "name": "stdout",
          "text": [
            "                                             abstrak  \\\n",
            "0  Sistem  informasi  akademik  (SIAKAD) merupaka...   \n",
            "1  Berjalannya koneksi jaringan komputer dengan l...   \n",
            "2  Web server adalah sebuah perangkat lunak serve...   \n",
            "3  Penjadwalan  kuliah  di  Perguruan  Tinggi  me...   \n",
            "4  Seiring perkembangan teknologi yang ada diduni...   \n",
            "\n",
            "                                   abstrak(stopword)  \\\n",
            "0  sistem informasi akademik (siakad) sistem info...   \n",
            "1  berjalannya koneksi jaringan komputer lancar g...   \n",
            "2  web server perangkat lunak server berfungsi me...   \n",
            "3  penjadwalan kuliah perguruan kompleks. permasa...   \n",
            "4  seiring perkembangan teknologi didunia, muncul...   \n",
            "\n",
            "                                       abstrak_clean  \\\n",
            "0  sistem informasi akademik siakad sistem inform...   \n",
            "1  berjalannya koneksi jaringan komputer lancar g...   \n",
            "2  web server perangkat lunak server berfungsi me...   \n",
            "3  penjadwalan kuliah perguruan kompleks permasal...   \n",
            "4  seiring perkembangan teknologi didunia muncul ...   \n",
            "\n",
            "                                  abstrak(cek ejaan)  \\\n",
            "0  sistem informasi akademik siakad sistem inform...   \n",
            "1  berjalannya koneksi jaringan komputer lancar g...   \n",
            "2  web server perangkat lunak server berfungsi me...   \n",
            "3  penjadwalan kuliah perguruan kompleks permasal...   \n",
            "4  seiring perkembangan teknologi didunia muncul ...   \n",
            "\n",
            "                                        abstrak_stem  \\\n",
            "0  sistem informasi akademik siakad sistem inform...   \n",
            "1  jalan koneksi jaring komputer lancar ganggu ha...   \n",
            "2  web server perangkat lunak server fungsi terim...   \n",
            "3  jadwal kuliah guru kompleks masalah variabel t...   \n",
            "4  iring kembang teknologi dunia muncul teknologi...   \n",
            "\n",
            "                                      abstrak_tokens  \n",
            "0  [sistem, informasi, akademik, siakad, sistem, ...  \n",
            "1  [jalan, koneksi, jaring, komputer, lancar, gan...  \n",
            "2  [web, server, perangkat, lunak, server, fungsi...  \n",
            "3  [jadwal, kuliah, guru, kompleks, masalah, vari...  \n",
            "4  [iring, kembang, teknologi, dunia, muncul, tek...  \n",
            "✅ Hasil disimpan di hasil-pre-pro_abstrak(PTA).csv\n"
          ]
        }
      ]
    },
    {
      "cell_type": "markdown",
      "source": [
        "# Load Dataset (Berita)"
      ],
      "metadata": {
        "id": "9O5Owp75bIzN"
      }
    },
    {
      "cell_type": "code",
      "source": [
        "import pandas as pd\n",
        "\n",
        "df = pd.read_csv('/content/drive/MyDrive/semester 5/ppw/CrawlBerita_Politik-Olahraga.csv')\n",
        "print(df.head())"
      ],
      "metadata": {
        "colab": {
          "base_uri": "https://localhost:8080/"
        },
        "id": "D7FRy_AhbQu6",
        "outputId": "8133f615-492f-4d87-b5e7-e6ee8c596086"
      },
      "execution_count": 25,
      "outputs": [
        {
          "output_type": "stream",
          "name": "stdout",
          "text": [
            "                                               judul  \\\n",
            "0                                    Title Not Found   \n",
            "1  Mensos Ajak Kepala Daerah Kolaborasi Sukseskan...   \n",
            "2  Mendagri & CIO Danantara Bahas Penguatan Pendi...   \n",
            "3  Video: Alasan Tersangka Penculikan Kacab Bank ...   \n",
            "4  Kemnaker Catat 16.900 Pengunjung PTSA, Mayorit...   \n",
            "\n",
            "                                                 isi kategori  \n",
            "0                                  Content Not Found  Politik  \n",
            "1  Jakarta - Menteri Sosial Saifullah Yusuf (Gus ...  Politik  \n",
            "2  Jakarta - Menteri Dalam Negeri Muhammad Tito K...  Politik  \n",
            "3  Polisi mengungkap alasan para tersangka pencul...  Politik  \n",
            "4  Jakarta - Kementerian Ketenagakerjaan (Kemnake...  Politik  \n"
          ]
        }
      ]
    },
    {
      "cell_type": "markdown",
      "source": [
        "### **1. Penghapusan Kata Umum (Stop Word)**\n",
        "\n",
        "Menghapus kata-kata umum (indonesia)"
      ],
      "metadata": {
        "id": "qAjPiKo0cStN"
      }
    },
    {
      "cell_type": "code",
      "source": [
        "import pandas as pd\n",
        "import nltk\n",
        "from nltk.corpus import stopwords\n",
        "\n",
        "# Download stopwords bahasa Indonesia\n",
        "nltk.download('stopwords')\n",
        "\n",
        "# Load dataset\n",
        "df = pd.read_csv(\"/content/drive/MyDrive/semester 5/ppw/CrawlBerita_Politik-Olahraga.csv\")  # ganti dengan nama file kamu\n",
        "\n",
        "# Ambil kolom abstrak\n",
        "df = df[[ 'isi']]\n",
        "\n",
        "# Ambil stopwords bahasa Indonesia\n",
        "stop_words = set(stopwords.words('indonesian'))\n",
        "\n",
        "def remove_stopwords(text):\n",
        "    words = text.lower().split()  # ubah ke huruf kecil & pisah kata\n",
        "    filtered_words = [word for word in words if word not in stop_words]\n",
        "    return \" \".join(filtered_words)\n",
        "\n",
        "# Terapkan stopword removal\n",
        "df['isi(stopword)'] = df['isi'].astype(str).apply(remove_stopwords)\n",
        "\n",
        "print(df[['isi', 'isi(stopword)']].head())"
      ],
      "metadata": {
        "colab": {
          "base_uri": "https://localhost:8080/"
        },
        "id": "SBiK10uqbfzX",
        "outputId": "a84edbe8-e897-4430-acdb-44862a28e34e"
      },
      "execution_count": 34,
      "outputs": [
        {
          "output_type": "stream",
          "name": "stdout",
          "text": [
            "                                                 isi  \\\n",
            "0                                  Content Not Found   \n",
            "1  Jakarta - Menteri Sosial Saifullah Yusuf (Gus ...   \n",
            "2  Jakarta - Menteri Dalam Negeri Muhammad Tito K...   \n",
            "3  Polisi mengungkap alasan para tersangka pencul...   \n",
            "4  Jakarta - Kementerian Ketenagakerjaan (Kemnake...   \n",
            "\n",
            "                                       isi(stopword)  \n",
            "0                                  content not found  \n",
            "1  jakarta - menteri sosial saifullah yusuf (gus ...  \n",
            "2  jakarta - menteri negeri muhammad tito karnavi...  \n",
            "3  polisi mengungkap alasan tersangka penculikan ...  \n",
            "4  jakarta - kementerian ketenagakerjaan (kemnake...  \n"
          ]
        },
        {
          "output_type": "stream",
          "name": "stderr",
          "text": [
            "[nltk_data] Downloading package stopwords to /root/nltk_data...\n",
            "[nltk_data]   Package stopwords is already up-to-date!\n"
          ]
        }
      ]
    },
    {
      "cell_type": "markdown",
      "source": [
        "### **2. pembersihan Teks**\n",
        "\n",
        "Konversi teks menjadi huruf kecil, menghapus tanda baca, angka, karakter khusus, dan tag HTML."
      ],
      "metadata": {
        "id": "wJQtxeNZclD7"
      }
    },
    {
      "cell_type": "code",
      "source": [
        "import re\n",
        "import pandas as pd\n",
        "import nltk\n",
        "from nltk.corpus import stopwords\n",
        "\n",
        "def clean_text(text):\n",
        "    text = text.lower()  # ubah ke huruf kecil\n",
        "    text = re.sub(r'[^\\w\\s]', '', text)  # hapus semua tanda baca (punctuation)\n",
        "    words = text.split()\n",
        "    words = [word for word in words if word not in stop_words]  # hapus stopwords\n",
        "    return \" \".join(words)\n",
        "\n",
        "# Terapkan pembersihan\n",
        "df['isi_clean'] = df['isi(stopword)'].astype(str).apply(clean_text)\n",
        "\n",
        "print(df[['isi','isi(stopword)', 'isi_clean']].head())"
      ],
      "metadata": {
        "colab": {
          "base_uri": "https://localhost:8080/"
        },
        "id": "Sz9XUnOxcYSC",
        "outputId": "cd584ba5-23e1-4040-f4f3-3c61d1a62777"
      },
      "execution_count": 36,
      "outputs": [
        {
          "output_type": "stream",
          "name": "stdout",
          "text": [
            "                                                 isi  \\\n",
            "0                                  content not found   \n",
            "1  jakarta menteri sosial saifullah yusuf gus ipu...   \n",
            "2  jakarta menteri negeri muhammad tito karnavian...   \n",
            "3  polisi mengungkap alasan tersangka penculikan ...   \n",
            "4  jakarta kementerian ketenagakerjaan kemnaker m...   \n",
            "\n",
            "                                       isi(stopword)  \\\n",
            "0                                  content not found   \n",
            "1  jakarta - menteri sosial saifullah yusuf (gus ...   \n",
            "2  jakarta - menteri negeri muhammad tito karnavi...   \n",
            "3  polisi mengungkap alasan tersangka penculikan ...   \n",
            "4  jakarta - kementerian ketenagakerjaan (kemnake...   \n",
            "\n",
            "                                           isi_clean  \n",
            "0                                  content not found  \n",
            "1  jakarta menteri sosial saifullah yusuf gus ipu...  \n",
            "2  jakarta menteri negeri muhammad tito karnavian...  \n",
            "3  polisi mengungkap alasan tersangka penculikan ...  \n",
            "4  jakarta kementerian ketenagakerjaan kemnaker m...  \n"
          ]
        }
      ]
    },
    {
      "cell_type": "markdown",
      "source": [
        "### **3. Pemeriksaan Ejaan Kata**\n",
        "\n",
        "Memperbaiki kesalahan ejaan dalam teks."
      ],
      "metadata": {
        "id": "E5s7fbOMc1C2"
      }
    },
    {
      "cell_type": "code",
      "source": [
        "# Kamus kata tidak baku → kata baku\n",
        "kamus_kata = {\n",
        "    \"tehnik\": \"teknik\",\n",
        "    \"yg\": \"yang\",\n",
        "    \"tdk\": \"tidak\",\n",
        "    \"dr\": \"dari\",\n",
        "    \"utk\": \"untuk\",\n",
        "    \"dlm\": \"dalam\",\n",
        "    \"tp\": \"tapi\",\n",
        "    \"jg\": \"juga\",\n",
        "    \"krn\": \"karena\",\n",
        "    \"bkn\": \"bukan\",\n",
        "    \"sdh\": \"sudah\",\n",
        "    \"sm\": \"sama\"\n",
        "}\n",
        "\n",
        "def normalisasi_kata(teks):\n",
        "    kata = teks.split()\n",
        "    kata_baru = []\n",
        "    for k in kata:\n",
        "        # jika ada di kamus_kata → ganti\n",
        "        kata_baru.append(kamus_kata.get(k, k))\n",
        "    return \" \".join(kata_baru)\n",
        "\n",
        "# Terapkan normalisasi\n",
        "df['isi(cek ejaan)'] = df['isi_clean'].astype(str).apply(normalisasi_kata)\n",
        "\n",
        "print(df[['isi','isi(stopword)','isi_clean', 'isi(cek ejaan)']].head())\n"
      ],
      "metadata": {
        "colab": {
          "base_uri": "https://localhost:8080/"
        },
        "id": "-EZ7uakzcqfz",
        "outputId": "131df4ca-93aa-4daa-cc97-5f0c508c921d"
      },
      "execution_count": 37,
      "outputs": [
        {
          "output_type": "stream",
          "name": "stdout",
          "text": [
            "                                                 isi  \\\n",
            "0                                  content not found   \n",
            "1  jakarta menteri sosial saifullah yusuf gus ipu...   \n",
            "2  jakarta menteri negeri muhammad tito karnavian...   \n",
            "3  polisi mengungkap alasan tersangka penculikan ...   \n",
            "4  jakarta kementerian ketenagakerjaan kemnaker m...   \n",
            "\n",
            "                                       isi(stopword)  \\\n",
            "0                                  content not found   \n",
            "1  jakarta - menteri sosial saifullah yusuf (gus ...   \n",
            "2  jakarta - menteri negeri muhammad tito karnavi...   \n",
            "3  polisi mengungkap alasan tersangka penculikan ...   \n",
            "4  jakarta - kementerian ketenagakerjaan (kemnake...   \n",
            "\n",
            "                                           isi_clean  \\\n",
            "0                                  content not found   \n",
            "1  jakarta menteri sosial saifullah yusuf gus ipu...   \n",
            "2  jakarta menteri negeri muhammad tito karnavian...   \n",
            "3  polisi mengungkap alasan tersangka penculikan ...   \n",
            "4  jakarta kementerian ketenagakerjaan kemnaker m...   \n",
            "\n",
            "                                      isi(cek ejaan)  \n",
            "0                                  content not found  \n",
            "1  jakarta menteri sosial saifullah yusuf gus ipu...  \n",
            "2  jakarta menteri negeri muhammad tito karnavian...  \n",
            "3  polisi mengungkap alasan tersangka penculikan ...  \n",
            "4  jakarta kementerian ketenagakerjaan kemnaker m...  \n"
          ]
        }
      ]
    },
    {
      "cell_type": "markdown",
      "source": [
        "### **4. Stemming dan Lematisasi**\n",
        "\n",
        "Mengurangi kata-kata ke bentuk dasarnya menggunakan stemming dan lemmatisasi."
      ],
      "metadata": {
        "id": "8ewTNOxEdD34"
      }
    },
    {
      "cell_type": "code",
      "source": [
        "from Sastrawi.Stemmer.StemmerFactory import StemmerFactory\n",
        "\n",
        "# Buat stemmer\n",
        "factory = StemmerFactory()\n",
        "stemmer = factory.create_stemmer()\n",
        "\n",
        "def stemming_indo(teks):\n",
        "    return stemmer.stem(teks)\n",
        "\n",
        "# Terapkan stemming\n",
        "df['isi_stem'] = df['isi(cek ejaan)'].astype(str).apply(stemming_indo)\n",
        "\n",
        "print(df[['isi','isi(stopword)','isi_clean', 'isi(cek ejaan)','isi_stem']].head())"
      ],
      "metadata": {
        "colab": {
          "base_uri": "https://localhost:8080/"
        },
        "id": "vQr0lhiPc75Q",
        "outputId": "a36e9457-b94e-4feb-dd9b-355fb0b5998f"
      },
      "execution_count": 38,
      "outputs": [
        {
          "output_type": "stream",
          "name": "stdout",
          "text": [
            "                                                 isi  \\\n",
            "0                                  content not found   \n",
            "1  jakarta menteri sosial saifullah yusuf gus ipu...   \n",
            "2  jakarta menteri negeri muhammad tito karnavian...   \n",
            "3  polisi mengungkap alasan tersangka penculikan ...   \n",
            "4  jakarta kementerian ketenagakerjaan kemnaker m...   \n",
            "\n",
            "                                       isi(stopword)  \\\n",
            "0                                  content not found   \n",
            "1  jakarta - menteri sosial saifullah yusuf (gus ...   \n",
            "2  jakarta - menteri negeri muhammad tito karnavi...   \n",
            "3  polisi mengungkap alasan tersangka penculikan ...   \n",
            "4  jakarta - kementerian ketenagakerjaan (kemnake...   \n",
            "\n",
            "                                           isi_clean  \\\n",
            "0                                  content not found   \n",
            "1  jakarta menteri sosial saifullah yusuf gus ipu...   \n",
            "2  jakarta menteri negeri muhammad tito karnavian...   \n",
            "3  polisi mengungkap alasan tersangka penculikan ...   \n",
            "4  jakarta kementerian ketenagakerjaan kemnaker m...   \n",
            "\n",
            "                                      isi(cek ejaan)  \\\n",
            "0                                  content not found   \n",
            "1  jakarta menteri sosial saifullah yusuf gus ipu...   \n",
            "2  jakarta menteri negeri muhammad tito karnavian...   \n",
            "3  polisi mengungkap alasan tersangka penculikan ...   \n",
            "4  jakarta kementerian ketenagakerjaan kemnaker m...   \n",
            "\n",
            "                                            isi_stem  \n",
            "0                                  content not found  \n",
            "1  jakarta menteri sosial saifullah yusuf gus ipu...  \n",
            "2  jakarta menteri negeri muhammad tito karnavian...  \n",
            "3  polisi ungkap alas sangka culi ujung kacab ban...  \n",
            "4  jakarta menteri ketenagakerjaan kemnaker catat...  \n"
          ]
        }
      ]
    },
    {
      "cell_type": "markdown",
      "source": [
        "### **5. Tokenisasi**\n",
        "\n",
        "Membagi teks yang telah olah menjadi token (kata)."
      ],
      "metadata": {
        "id": "PjSupZSbefET"
      }
    },
    {
      "cell_type": "code",
      "source": [
        "def tokenisasi(teks):\n",
        "    # Pisah berdasarkan spasi & hilangkan token kosong\n",
        "    tokens = re.findall(r'\\b\\w+\\b', str(teks))\n",
        "    return tokens\n",
        "\n",
        "# Terapkan tokenisasi\n",
        "df['isi_tokens'] = df['isi_stem'].apply(tokenisasi)\n",
        "# Contoh hasil\n",
        "print(df[['isi','isi(stopword)','isi_clean','isi(cek ejaan)','isi_stem', 'isi_tokens']].head())\n",
        "\n",
        "# Simpan hasil\n",
        "df.to_csv(\"hasil-pre-pro_isi_berita.csv\", index=False, encoding=\"utf-8-sig\")\n",
        "print(\"✅ Hasil disimpan di hasil-pre-pro_isi_berita.csv\")\n"
      ],
      "metadata": {
        "colab": {
          "base_uri": "https://localhost:8080/"
        },
        "id": "F_l1lmusdHiN",
        "outputId": "6b78c14d-7a82-499c-abbc-82783f567d57"
      },
      "execution_count": 39,
      "outputs": [
        {
          "output_type": "stream",
          "name": "stdout",
          "text": [
            "                                                 isi  \\\n",
            "0                                  content not found   \n",
            "1  jakarta menteri sosial saifullah yusuf gus ipu...   \n",
            "2  jakarta menteri negeri muhammad tito karnavian...   \n",
            "3  polisi mengungkap alasan tersangka penculikan ...   \n",
            "4  jakarta kementerian ketenagakerjaan kemnaker m...   \n",
            "\n",
            "                                       isi(stopword)  \\\n",
            "0                                  content not found   \n",
            "1  jakarta - menteri sosial saifullah yusuf (gus ...   \n",
            "2  jakarta - menteri negeri muhammad tito karnavi...   \n",
            "3  polisi mengungkap alasan tersangka penculikan ...   \n",
            "4  jakarta - kementerian ketenagakerjaan (kemnake...   \n",
            "\n",
            "                                           isi_clean  \\\n",
            "0                                  content not found   \n",
            "1  jakarta menteri sosial saifullah yusuf gus ipu...   \n",
            "2  jakarta menteri negeri muhammad tito karnavian...   \n",
            "3  polisi mengungkap alasan tersangka penculikan ...   \n",
            "4  jakarta kementerian ketenagakerjaan kemnaker m...   \n",
            "\n",
            "                                      isi(cek ejaan)  \\\n",
            "0                                  content not found   \n",
            "1  jakarta menteri sosial saifullah yusuf gus ipu...   \n",
            "2  jakarta menteri negeri muhammad tito karnavian...   \n",
            "3  polisi mengungkap alasan tersangka penculikan ...   \n",
            "4  jakarta kementerian ketenagakerjaan kemnaker m...   \n",
            "\n",
            "                                            isi_stem  \\\n",
            "0                                  content not found   \n",
            "1  jakarta menteri sosial saifullah yusuf gus ipu...   \n",
            "2  jakarta menteri negeri muhammad tito karnavian...   \n",
            "3  polisi ungkap alas sangka culi ujung kacab ban...   \n",
            "4  jakarta menteri ketenagakerjaan kemnaker catat...   \n",
            "\n",
            "                                          isi_tokens  \n",
            "0                              [content, not, found]  \n",
            "1  [jakarta, menteri, sosial, saifullah, yusuf, g...  \n",
            "2  [jakarta, menteri, negeri, muhammad, tito, kar...  \n",
            "3  [polisi, ungkap, alas, sangka, culi, ujung, ka...  \n",
            "4  [jakarta, menteri, ketenagakerjaan, kemnaker, ...  \n",
            "✅ Hasil disimpan di hasil-pre-pro_isi_berita.csv\n"
          ]
        }
      ]
    }
  ]
}