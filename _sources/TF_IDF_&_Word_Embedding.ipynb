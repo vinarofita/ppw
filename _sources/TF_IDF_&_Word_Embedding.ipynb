{
  "nbformat": 4,
  "nbformat_minor": 0,
  "metadata": {
    "colab": {
      "provenance": []
    },
    "kernelspec": {
      "name": "python3",
      "display_name": "Python 3"
    },
    "language_info": {
      "name": "python"
    }
  },
  "cells": [
    {
      "cell_type": "markdown",
      "source": [
        "# TF-IDF & WORD EMBEDDING, KLASIFIKASI SVM & NAIVE BAYES"
      ],
      "metadata": {
        "id": "dpLiCC6VDxo7"
      }
    },
    {
      "cell_type": "code",
      "execution_count": 21,
      "metadata": {
        "colab": {
          "base_uri": "https://localhost:8080/"
        },
        "id": "ur0ZtU2JtHwd",
        "outputId": "16a140a9-6c19-4ea7-a5b9-07a1ee3deb25"
      },
      "outputs": [
        {
          "output_type": "stream",
          "name": "stdout",
          "text": [
            "Drive already mounted at /content/drive; to attempt to forcibly remount, call drive.mount(\"/content/drive\", force_remount=True).\n"
          ]
        }
      ],
      "source": [
        "from google.colab import drive\n",
        "drive.mount('/content/drive')"
      ]
    },
    {
      "cell_type": "code",
      "source": [
        "import pandas as pd\n",
        "\n",
        "df = pd.read_csv('/content/drive/MyDrive/semester 5/ppw/hasil-pre-pro_isi_beritaa.csv')\n",
        "print(df.head())"
      ],
      "metadata": {
        "colab": {
          "base_uri": "https://localhost:8080/"
        },
        "id": "zJza1niauzH7",
        "outputId": "bb3f79b1-fd48-4cb3-8405-7108560731ca"
      },
      "execution_count": 22,
      "outputs": [
        {
          "output_type": "stream",
          "name": "stdout",
          "text": [
            "                                                 isi kategori  \\\n",
            "0                                  Content Not Found  Politik   \n",
            "1  Jakarta - Menteri Sosial Saifullah Yusuf (Gus ...  Politik   \n",
            "2  Jakarta - Menteri Dalam Negeri Muhammad Tito K...  Politik   \n",
            "3  Polisi mengungkap alasan para tersangka pencul...  Politik   \n",
            "4  Jakarta - Kementerian Ketenagakerjaan (Kemnake...  Politik   \n",
            "\n",
            "                                       isi(stopword)  \\\n",
            "0                                  content not found   \n",
            "1  jakarta - menteri sosial saifullah yusuf (gus ...   \n",
            "2  jakarta - menteri negeri muhammad tito karnavi...   \n",
            "3  polisi mengungkap alasan tersangka penculikan ...   \n",
            "4  jakarta - kementerian ketenagakerjaan (kemnake...   \n",
            "\n",
            "                                           isi_clean  \\\n",
            "0                                  content not found   \n",
            "1  jakarta menteri sosial saifullah yusuf gus ipu...   \n",
            "2  jakarta menteri negeri muhammad tito karnavian...   \n",
            "3  polisi mengungkap alasan tersangka penculikan ...   \n",
            "4  jakarta kementerian ketenagakerjaan kemnaker m...   \n",
            "\n",
            "                                      isi(cek ejaan)  \\\n",
            "0                                  content not found   \n",
            "1  jakarta menteri sosial saifullah yusuf gus ipu...   \n",
            "2  jakarta menteri negeri muhammad tito karnavian...   \n",
            "3  polisi mengungkap alasan tersangka penculikan ...   \n",
            "4  jakarta kementerian ketenagakerjaan kemnaker m...   \n",
            "\n",
            "                                            isi_stem  \\\n",
            "0                                  content not found   \n",
            "1  jakarta menteri sosial saifullah yusuf gus ipu...   \n",
            "2  jakarta menteri negeri muhammad tito karnavian...   \n",
            "3  polisi ungkap alas sangka culi ujung kacab ban...   \n",
            "4  jakarta menteri ketenagakerjaan kemnaker catat...   \n",
            "\n",
            "                                          isi_tokens  \n",
            "0                        ['content', 'not', 'found']  \n",
            "1  ['jakarta', 'menteri', 'sosial', 'saifullah', ...  \n",
            "2  ['jakarta', 'menteri', 'negeri', 'muhammad', '...  \n",
            "3  ['polisi', 'ungkap', 'alas', 'sangka', 'culi',...  \n",
            "4  ['jakarta', 'menteri', 'ketenagakerjaan', 'kem...  \n"
          ]
        }
      ]
    },
    {
      "cell_type": "markdown",
      "source": [
        "## TF-IDF"
      ],
      "metadata": {
        "id": "hBCKlaQID9hR"
      }
    },
    {
      "cell_type": "code",
      "source": [
        "import pandas as pd\n",
        "from sklearn.feature_extraction.text import TfidfVectorizer\n",
        "import ast\n",
        "\n",
        "print(\"Sample of 'isi_tokens' column:\")\n",
        "print(df['isi_tokens'].head())\n",
        "\n",
        "# Konversi string list ke Python list\n",
        "def safe_literal_eval(x):\n",
        "    try:\n",
        "        return ast.literal_eval(x)\n",
        "    except (ValueError, SyntaxError):\n",
        "        return []  # kalo gagal, return list kosong\n",
        "\n",
        "df['isi_tokens_list'] = df['isi_tokens'].apply(safe_literal_eval)\n",
        "\n",
        "# Gabungkan token jadi string\n",
        "df['tokens_joined'] = df['isi_tokens_list'].apply(lambda x: ' '.join(x))\n",
        "\n",
        "# Inisialisasi TF-IDF Vectorizer\n",
        "tfidf = TfidfVectorizer()\n",
        "\n",
        "# Fit dan transform\n",
        "tfidf_matrix = tfidf.fit_transform(df['tokens_joined'])\n",
        "\n",
        "# Buat DataFrame hasil TF-IDF\n",
        "tfidf_df = pd.DataFrame(\n",
        "    tfidf_matrix.toarray(),\n",
        "    columns=tfidf.get_feature_names_out(),\n",
        "    index=df.index\n",
        ")\n",
        "\n",
        "# ---- TAMPILKAN HASIL ----\n",
        "print(\"Shape TF-IDF:\", tfidf_matrix.shape)  # (jumlah_dokumen, jumlah_kata_unik)\n",
        "\n",
        "# Tampilkan 5 baris pertama (biar gak terlalu panjang)\n",
        "print(\"\\nTF-IDF sample (5 dokumen pertama):\")\n",
        "print(tfidf_df.head())"
      ],
      "metadata": {
        "colab": {
          "base_uri": "https://localhost:8080/"
        },
        "id": "3v0wAZABxfPz",
        "outputId": "373d1a55-93ac-47ef-cc5f-fc5d56ea766a"
      },
      "execution_count": 24,
      "outputs": [
        {
          "output_type": "stream",
          "name": "stdout",
          "text": [
            "Sample of 'isi_tokens' column:\n",
            "0                          ['content', 'not', 'found']\n",
            "1    ['jakarta', 'menteri', 'sosial', 'saifullah', ...\n",
            "2    ['jakarta', 'menteri', 'negeri', 'muhammad', '...\n",
            "3    ['polisi', 'ungkap', 'alas', 'sangka', 'culi',...\n",
            "4    ['jakarta', 'menteri', 'ketenagakerjaan', 'kem...\n",
            "Name: isi_tokens, dtype: object\n",
            "Shape TF-IDF: (200, 6304)\n",
            "\n",
            "TF-IDF sample (5 dokumen pertama):\n",
            "   0011  010  014  0147  0193  0258  0379  0381   04  0420  ...  zarco  \\\n",
            "0   0.0  0.0  0.0   0.0   0.0   0.0   0.0   0.0  0.0   0.0  ...    0.0   \n",
            "1   0.0  0.0  0.0   0.0   0.0   0.0   0.0   0.0  0.0   0.0  ...    0.0   \n",
            "2   0.0  0.0  0.0   0.0   0.0   0.0   0.0   0.0  0.0   0.0  ...    0.0   \n",
            "3   0.0  0.0  0.0   0.0   0.0   0.0   0.0   0.0  0.0   0.0  ...    0.0   \n",
            "4   0.0  0.0  0.0   0.0   0.0   0.0   0.0   0.0  0.0   0.0  ...    0.0   \n",
            "\n",
            "   zaulia  zefanya  zendegi  zhehuang  zhou  zinc  zita  zufra  zulkifli  \n",
            "0     0.0      0.0      0.0       0.0   0.0   0.0   0.0    0.0       0.0  \n",
            "1     0.0      0.0      0.0       0.0   0.0   0.0   0.0    0.0       0.0  \n",
            "2     0.0      0.0      0.0       0.0   0.0   0.0   0.0    0.0       0.0  \n",
            "3     0.0      0.0      0.0       0.0   0.0   0.0   0.0    0.0       0.0  \n",
            "4     0.0      0.0      0.0       0.0   0.0   0.0   0.0    0.0       0.0  \n",
            "\n",
            "[5 rows x 6304 columns]\n"
          ]
        }
      ]
    },
    {
      "cell_type": "code",
      "source": [
        "!pip install gensim"
      ],
      "metadata": {
        "colab": {
          "base_uri": "https://localhost:8080/"
        },
        "id": "K_0dpmiMyODI",
        "outputId": "b016a4f1-b29a-427f-dc30-5468dd806729"
      },
      "execution_count": 25,
      "outputs": [
        {
          "output_type": "stream",
          "name": "stdout",
          "text": [
            "Requirement already satisfied: gensim in /usr/local/lib/python3.12/dist-packages (4.3.3)\n",
            "Requirement already satisfied: numpy<2.0,>=1.18.5 in /usr/local/lib/python3.12/dist-packages (from gensim) (1.26.4)\n",
            "Requirement already satisfied: scipy<1.14.0,>=1.7.0 in /usr/local/lib/python3.12/dist-packages (from gensim) (1.13.1)\n",
            "Requirement already satisfied: smart-open>=1.8.1 in /usr/local/lib/python3.12/dist-packages (from gensim) (7.3.1)\n",
            "Requirement already satisfied: wrapt in /usr/local/lib/python3.12/dist-packages (from smart-open>=1.8.1->gensim) (1.17.3)\n"
          ]
        }
      ]
    },
    {
      "cell_type": "markdown",
      "source": [
        "## Word Embedding"
      ],
      "metadata": {
        "id": "3QoCmwhsEFJy"
      }
    },
    {
      "cell_type": "code",
      "source": [
        "import pandas as pd\n",
        "from gensim.models import Word2Vec\n",
        "import numpy as np\n",
        "\n",
        "# ====== Contoh Dataframe kamu ======\n",
        "# misal isi_tokens berisi list kata\n",
        "df = pd.DataFrame({\n",
        "    \"isi_tokens\": [\n",
        "        [\"presiden\", \"jokowi\", \"bertemu\", \"dengan\", \"para\", \"menteri\"],\n",
        "        [\"indonesia\", \"berhasil\", \"meraih\", \"medali\", \"emas\", \"di\", \"bulu\", \"tangkis\"],\n",
        "        [\"jakarta\", \"diguyur\", \"hujan\", \"deras\", \"hari\", \"ini\"]\n",
        "    ],\n",
        "    \"dokumen_asli\": [\n",
        "        \"presiden jokowi bertemu dengan para menteri\",\n",
        "        \"indonesia berhasil meraih medali emas di bulu tangkis\",\n",
        "        \"jakarta diguyur hujan deras hari ini\"\n",
        "    ]\n",
        "})\n",
        "\n",
        "# ====== Latih Word2Vec ======\n",
        "model = Word2Vec(\n",
        "    sentences=df[\"isi_tokens\"],\n",
        "    vector_size=100,  # banyak dimensi\n",
        "    window=5,\n",
        "    min_count=1,\n",
        "    workers=4\n",
        ")\n",
        "\n",
        "# ====== Buat embedding per dokumen ======\n",
        "def doc_vector(tokens, model):\n",
        "    vectors = []\n",
        "    for token in tokens:\n",
        "        if token in model.wv:\n",
        "            vectors.append(model.wv[token])\n",
        "    if len(vectors) == 0:\n",
        "        return np.zeros(model.vector_size)  # kalau token ga ada\n",
        "    else:\n",
        "        return np.mean(vectors, axis=0)  # rata-rata vektor kata\n",
        "\n",
        "# Hitung embedding semua dokumen\n",
        "doc_embeddings = df[\"isi_tokens\"].apply(lambda x: doc_vector(x, model))\n",
        "\n",
        "# Ubah ke dataframe (dim_0 ... dim_99)\n",
        "embeddings_df = pd.DataFrame(doc_embeddings.tolist(), columns=[f\"dim_{i}\" for i in range(model.vector_size)])\n",
        "\n",
        "# Tambahkan kolom dokumen asli\n",
        "final_df = pd.concat([embeddings_df, df[\"dokumen_asli\"]], axis=1)\n",
        "\n",
        "print(\"Contoh Word Embedding (Dokumen jadi Vektor) ===\")\n",
        "print(final_df.head())"
      ],
      "metadata": {
        "colab": {
          "base_uri": "https://localhost:8080/"
        },
        "id": "p0NebyBH1Jdd",
        "outputId": "9a600cb3-5dc2-4f8f-f475-114a27541d55"
      },
      "execution_count": 26,
      "outputs": [
        {
          "output_type": "stream",
          "name": "stdout",
          "text": [
            "Contoh Word Embedding (Dokumen jadi Vektor) ===\n",
            "      dim_0     dim_1     dim_2     dim_3     dim_4     dim_5     dim_6  \\\n",
            "0 -0.001709  0.002798 -0.002383 -0.001359 -0.000433  0.002564  0.003340   \n",
            "1  0.000818  0.002231  0.002177  0.000142  0.000203 -0.002498  0.000100   \n",
            "2 -0.000585 -0.000734  0.002248  0.002910  0.002292 -0.004570  0.001681   \n",
            "\n",
            "      dim_7     dim_8     dim_9  ...    dim_91    dim_92    dim_93    dim_94  \\\n",
            "0  0.001860 -0.002417 -0.001283  ...  0.001770 -0.001113 -0.000930  0.003377   \n",
            "1  0.001731 -0.001080 -0.004299  ...  0.001316  0.000192  0.002393  0.002333   \n",
            "2  0.006360 -0.003605 -0.002025  ...  0.001037  0.003283 -0.000640  0.000921   \n",
            "\n",
            "     dim_95    dim_96    dim_97    dim_98    dim_99  \\\n",
            "0 -0.001138  0.002677 -0.001539  0.002210 -0.000235   \n",
            "1 -0.001921  0.001321  0.001385  0.001576  0.001295   \n",
            "2  0.005349 -0.000753 -0.001191 -0.000312  0.002525   \n",
            "\n",
            "                                        dokumen_asli  \n",
            "0        presiden jokowi bertemu dengan para menteri  \n",
            "1  indonesia berhasil meraih medali emas di bulu ...  \n",
            "2               jakarta diguyur hujan deras hari ini  \n",
            "\n",
            "[3 rows x 101 columns]\n"
          ]
        }
      ]
    },
    {
      "cell_type": "code",
      "source": [
        "# Cek arsitektur model\n",
        "if model.sg == 0:\n",
        "    print(\"Model menggunakan CBOW ✅\")\n",
        "else:\n",
        "    print(\"Belum menggunakan CBOW✅\")"
      ],
      "metadata": {
        "colab": {
          "base_uri": "https://localhost:8080/"
        },
        "id": "dAvTeXnU2D3y",
        "outputId": "f839b542-2249-4c1f-cff0-39318cb34d4f"
      },
      "execution_count": 27,
      "outputs": [
        {
          "output_type": "stream",
          "name": "stdout",
          "text": [
            "Model menggunakan CBOW ✅\n"
          ]
        }
      ]
    },
    {
      "cell_type": "markdown",
      "source": [
        "## Visualisasi"
      ],
      "metadata": {
        "id": "TGRE-lWlEMIJ"
      }
    },
    {
      "cell_type": "code",
      "source": [
        "from sklearn.decomposition import PCA\n",
        "import matplotlib.pyplot as plt\n",
        "\n",
        "# PCA ke 2 dimensi\n",
        "pca = PCA(n_components=2)\n",
        "doc_embeddings_2d = pca.fit_transform(doc_embeddings.tolist())\n",
        "\n",
        "# Buat plot\n",
        "plt.figure(figsize=(6,5))\n",
        "for i, txt in enumerate(df[\"dokumen_asli\"]):\n",
        "    x, y = doc_embeddings_2d[i]\n",
        "    plt.scatter(x, y)\n",
        "    plt.text(x+0.01, y+0.01, txt, fontsize=9)\n",
        "plt.title(\"Visualisasi Word Embedding Dokumen (CBOW)\")\n",
        "plt.xlabel(\"PC1\")\n",
        "plt.ylabel(\"PC2\")\n",
        "plt.show()"
      ],
      "metadata": {
        "colab": {
          "base_uri": "https://localhost:8080/",
          "height": 602
        },
        "id": "QzUHaaXh2Mq9",
        "outputId": "b028c209-9624-4e7f-a54c-ac508f744325"
      },
      "execution_count": 28,
      "outputs": [
        {
          "output_type": "display_data",
          "data": {
            "text/plain": [
              "<Figure size 600x500 with 1 Axes>"
            ],
            "image/png": "[encoded data removed]"
          },
          "metadata": {}
        }
      ]
    },
    {
      "cell_type": "code",
      "source": [
        "df['label'] = df['kategori']  # \"Politik\" atau \"Olahraga\""
      ],
      "metadata": {
        "id": "_ok61DUsBop3"
      },
      "execution_count": 32,
      "outputs": []
    },
    {
      "cell_type": "code",
      "source": [
        "from sklearn.model_selection import train_test_split\n",
        "\n",
        "X = doc_embeddings.tolist()  # hasil embedding Word2Vec\n",
        "y = df['label']\n",
        "\n",
        "X_train, X_test, y_train, y_test = train_test_split(X, y, test_size=0.2, random_state=42)\n"
      ],
      "metadata": {
        "id": "GulFINm5BKdJ"
      },
      "execution_count": 33,
      "outputs": []
    },
    {
      "cell_type": "markdown",
      "source": [
        "## Perbandingan TF-IDF dan Word Emedding mengunakan SVM dan Naive Bayes"
      ],
      "metadata": {
        "id": "d2xkH6sIB2BX"
      }
    },
    {
      "cell_type": "code",
      "source": [
        "import pandas as pd\n",
        "from gensim.models import Word2Vec\n",
        "import numpy as np\n",
        "from sklearn.model_selection import cross_val_score, StratifiedKFold\n",
        "from sklearn.svm import SVC\n",
        "from sklearn.naive_bayes import MultinomialNB\n",
        "from sklearn.feature_extraction.text import TfidfVectorizer\n",
        "from sklearn.metrics import classification_report, accuracy_score\n",
        "\n",
        "# ===== Contoh DataFrame =====\n",
        "# Modified to include multiple categories\n",
        "df = pd.DataFrame({\n",
        "    \"isi_tokens\": [\n",
        "        ['content', 'not', 'found'],\n",
        "        ['jakarta', 'menteri', 'sosial', 'saifullah', 'yusuf', 'gus', 'ipu'],\n",
        "        ['jakarta', 'menteri', 'negeri', 'muhammad', 'tito', 'karnavian'],\n",
        "        ['polisi', 'ungkap', 'alas', 'sangka', 'culi'],\n",
        "        ['jakarta', 'menteri', 'ketenagakerjaan', 'kemnaker', 'catat'],\n",
        "        ['tim', 'nasional', 'indonesia', 'raih', 'emas', 'seagames'],\n",
        "        ['pertandingan', 'sepakbola', 'liga', 'italia', 'seru'],\n",
        "        ['harga', 'minyak', 'dunia', 'naik', 'drastis']\n",
        "    ],\n",
        "    \"kategori\": ['politik', 'politik', 'politik', 'politik', 'politik', 'olahraga', 'olahraga', 'bisnis']\n",
        "})\n",
        "\n",
        "# ===== Word2Vec Embedding =====\n",
        "w2v_model = Word2Vec(sentences=df['isi_tokens'], vector_size=50, window=3, min_count=1, workers=4)\n",
        "\n",
        "def doc_vector(tokens, model):\n",
        "    vectors = [model.wv[t] for t in tokens if t in model.wv]\n",
        "    return np.mean(vectors, axis=0) if vectors else np.zeros(model.vector_size)\n",
        "\n",
        "X_w2v = np.array([doc_vector(tokens, w2v_model) for tokens in df['isi_tokens']])\n",
        "y = df['kategori']\n",
        "\n",
        "# ===== Cross-validation SVM (Word2Vec) =====\n",
        "svm_model = SVC()\n",
        "cv = StratifiedKFold(n_splits=2, shuffle=True, random_state=42)  # 2 fold karena dataset kecil\n",
        "scores = cross_val_score(svm_model, X_w2v, y, cv=cv)\n",
        "print(\"Average SVM accuracy (Word2Vec):\", scores.mean())\n",
        "\n",
        "# ===== TF-IDF =====\n",
        "df['isi_string'] = df['isi_tokens'].apply(lambda x: ' '.join(x))\n",
        "tfidf = TfidfVectorizer()\n",
        "X_tfidf = tfidf.fit_transform(df['isi_string'])\n",
        "\n",
        "# ===== Cross-validation Naive Bayes (TF-IDF) =====\n",
        "nb_model = MultinomialNB()\n",
        "scores_nb = cross_val_score(nb_model, X_tfidf, y, cv=cv)\n",
        "print(\"Average Naive Bayes accuracy (TF-IDF):\", scores_nb.mean())"
      ],
      "metadata": {
        "colab": {
          "base_uri": "https://localhost:8080/"
        },
        "id": "SGadI3VaCmqb",
        "outputId": "512a95f2-1e2c-4683-ecd5-594bd787c244"
      },
      "execution_count": 40,
      "outputs": [
        {
          "output_type": "stream",
          "name": "stdout",
          "text": [
            "Average SVM accuracy (Word2Vec): 0.625\n",
            "Average Naive Bayes accuracy (TF-IDF): 0.625\n"
          ]
        },
        {
          "output_type": "stream",
          "name": "stderr",
          "text": [
            "/usr/local/lib/python3.12/dist-packages/sklearn/model_selection/_split.py:805: UserWarning: The least populated class in y has only 1 members, which is less than n_splits=2.\n",
            "  warnings.warn(\n",
            "/usr/local/lib/python3.12/dist-packages/sklearn/model_selection/_split.py:805: UserWarning: The least populated class in y has only 1 members, which is less than n_splits=2.\n",
            "  warnings.warn(\n"
          ]
        }
      ]
    }
  ]
}