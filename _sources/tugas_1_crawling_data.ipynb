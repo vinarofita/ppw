{
  "cells": [
    {
      "cell_type": "markdown",
      "metadata": {},
      "source": [
        "# Crawling Data"
      ]
    },
    {
      "cell_type": "code",
      "execution_count": 8,
      "metadata": {
        "colab": {
          "base_uri": "https://localhost:8080/",
          "height": 0
        },
        "id": "T0kXVMSKkT62",
        "outputId": "2160cead-0d07-4db9-d02b-ed3959cec3ec"
      },
      "outputs": [
        {
          "name": "stdout",
          "output_type": "stream",
          "text": [
            "Requirement already satisfied: sprynger in /usr/local/lib/python3.12/dist-packages (0.4.1)\n",
            "Requirement already satisfied: lxml in /usr/local/lib/python3.12/dist-packages (from sprynger) (5.4.0)\n",
            "Requirement already satisfied: requests in /usr/local/lib/python3.12/dist-packages (from sprynger) (2.32.4)\n",
            "Requirement already satisfied: urllib3 in /usr/local/lib/python3.12/dist-packages (from sprynger) (2.5.0)\n",
            "Requirement already satisfied: platformdirs in /usr/local/lib/python3.12/dist-packages (from sprynger) (4.3.8)\n",
            "Requirement already satisfied: charset_normalizer<4,>=2 in /usr/local/lib/python3.12/dist-packages (from requests->sprynger) (3.4.3)\n",
            "Requirement already satisfied: idna<4,>=2.5 in /usr/local/lib/python3.12/dist-packages (from requests->sprynger) (3.10)\n",
            "Requirement already satisfied: certifi>=2017.4.17 in /usr/local/lib/python3.12/dist-packages (from requests->sprynger) (2025.8.3)\n"
          ]
        }
      ],
      "source": [
        "pip install sprynger"
      ]
    },
    {
      "cell_type": "code",
      "execution_count": 7,
      "metadata": {
        "colab": {
          "base_uri": "https://localhost:8080/",
          "height": 0
        },
        "id": "gP8qm1ykpm1G",
        "outputId": "1925fdf0-fc62-43b8-9521-979681fee96f"
      },
      "outputs": [
        {
          "name": "stdout",
          "output_type": "stream",
          "text": [
            "\n",
            "🔎 kata kunci: web mining\n",
            "Total hasil: 47419\n",
            "\n",
            "DOI: 10.1007/978-3-032-02088-8_5\n",
            "Title: ONFOODS: A Substitute Recommendation System in Food Recipes\n",
            "\n",
            "DOI: 10.1007/978-3-032-02515-9_5\n",
            "Title: A Silent Partner: The Shadow Presence of Generative Artificial Intelligence in Public Administrations\n",
            "\n",
            "DOI: 10.1007/s11600-025-01581-x\n",
            "Title: Assessment of climate change impacts and land cover dynamics in the Upper Sakarya Basin, Türkiye using the Collect Earth approach\n",
            "\n",
            "DOI: 10.1007/s10750-024-05761-6\n",
            "Title: Resilience of alpine lake macroinvertebrate communities to climate change: a view from the South Carpathian Mountains\n",
            "\n",
            "DOI: 10.1007/s11116-024-10487-4\n",
            "Title: Exploring the effect of perceived safety in first/last mile mode choices\n",
            "\n",
            "DOI: 10.1007/s11196-025-10299-4\n",
            "Title: The Language of Justice: Examining Courtroom Discourse in an Electoral Conflict\n",
            "\n",
            "DOI: 10.1007/s11116-024-10485-6\n",
            "Title: The influence of app function evolution on transport SuperApp use behaviour over time\n",
            "\n",
            "DOI: 10.1007/s10750-025-05871-9\n",
            "Title: Urbanization results in highly dynamic, degraded benthic macroinvertebrate communities in North Carolina streams\n",
            "\n",
            "DOI: 10.1007/s11116-024-10482-9\n",
            "Title: Multi-purpose pickup and delivery problem for combined passenger and freight transport\n",
            "\n",
            "DOI: 10.1007/s10115-025-02461-y\n",
            "Title: A comparative analysis of predictive process monitoring: object-centric versus classical event logs\n",
            "\n",
            "\n",
            "🔎 kata kunci: web usage mining\n",
            "Total hasil: 13249\n",
            "\n",
            "DOI: 10.1007/978-3-032-02088-8_5\n",
            "Title: ONFOODS: A Substitute Recommendation System in Food Recipes\n",
            "\n",
            "DOI: 10.1007/978-3-032-02515-9_5\n",
            "Title: A Silent Partner: The Shadow Presence of Generative Artificial Intelligence in Public Administrations\n",
            "\n",
            "DOI: 10.1007/s11116-024-10485-6\n",
            "Title: The influence of app function evolution on transport SuperApp use behaviour over time\n",
            "\n",
            "DOI: 10.1007/s11196-025-10299-4\n",
            "Title: The Language of Justice: Examining Courtroom Discourse in an Electoral Conflict\n",
            "\n",
            "DOI: 10.1007/s11116-024-10487-4\n",
            "Title: Exploring the effect of perceived safety in first/last mile mode choices\n",
            "\n",
            "DOI: 10.1007/s11116-024-10482-9\n",
            "Title: Multi-purpose pickup and delivery problem for combined passenger and freight transport\n",
            "\n",
            "DOI: 10.1007/s10115-025-02461-y\n",
            "Title: A comparative analysis of predictive process monitoring: object-centric versus classical event logs\n",
            "\n",
            "DOI: 10.1007/s10115-025-02471-w\n",
            "Title: Effective and lightweight lossy compression of tensors: techniques and applications\n",
            "\n",
            "DOI: 10.1007/s40558-025-00327-1\n",
            "Title: A recommender-based web platform to boost tourism in marginal territories\n",
            "\n",
            "DOI: 10.1007/s12567-024-00589-1\n",
            "Title: Synthetic satellite telemetry data for machine learning\n",
            "\n",
            "\n",
            "🔎 kata kunci: web structure mining\n",
            "Total hasil: 39322\n",
            "\n",
            "DOI: 10.1007/978-3-032-02088-8_5\n",
            "Title: ONFOODS: A Substitute Recommendation System in Food Recipes\n",
            "\n",
            "DOI: 10.1007/978-3-032-02515-9_5\n",
            "Title: A Silent Partner: The Shadow Presence of Generative Artificial Intelligence in Public Administrations\n",
            "\n",
            "DOI: 10.1007/s11600-025-01581-x\n",
            "Title: Assessment of climate change impacts and land cover dynamics in the Upper Sakarya Basin, Türkiye using the Collect Earth approach\n",
            "\n",
            "DOI: 10.1007/s10750-024-05761-6\n",
            "Title: Resilience of alpine lake macroinvertebrate communities to climate change: a view from the South Carpathian Mountains\n",
            "\n",
            "DOI: 10.1007/s10750-025-05871-9\n",
            "Title: Urbanization results in highly dynamic, degraded benthic macroinvertebrate communities in North Carolina streams\n",
            "\n",
            "DOI: 10.1007/s11196-025-10299-4\n",
            "Title: The Language of Justice: Examining Courtroom Discourse in an Electoral Conflict\n",
            "\n",
            "DOI: 10.1007/s11116-024-10487-4\n",
            "Title: Exploring the effect of perceived safety in first/last mile mode choices\n",
            "\n",
            "DOI: 10.1007/s11116-024-10482-9\n",
            "Title: Multi-purpose pickup and delivery problem for combined passenger and freight transport\n",
            "\n",
            "DOI: 10.1007/s10115-025-02461-y\n",
            "Title: A comparative analysis of predictive process monitoring: object-centric versus classical event logs\n",
            "\n",
            "DOI: 10.1007/s10115-025-02476-5\n",
            "Title: Beyond pairwise relationships: a transformer-based hypergraph learning approach for fraud detection\n",
            "\n",
            "\n",
            "✅ Data berhasil disimpan ke hasil_crawling.csv\n"
          ]
        }
      ],
      "source": [
        "import requests\n",
        "import pandas as pd\n",
        "\n",
        "api_key = \"a2c365dcd0ef62886fbfa5fcb2ddd373\"\n",
        "\n",
        "keywords = [\"web mining\", \"web usage mining\",\"web structure mining\"]\n",
        "\n",
        "all_results = []\n",
        "\n",
        "for keyword in keywords:\n",
        "    url = \"https://api.springernature.com/openaccess/json\"  # pakai endpoint openaccess\n",
        "    params = {\n",
        "        \"q\": keyword,\n",
        "        \"api_key\": api_key,\n",
        "        \"p\": 10\n",
        "    }\n",
        "\n",
        "    response = requests.get(url, params=params)\n",
        "\n",
        "    if response.status_code == 200:\n",
        "        data = response.json()\n",
        "        print(f\"\\n🔎 kata kunci: {keyword}\")\n",
        "        print(f\"Total hasil: {data['result'][0]['total']}\\n\")\n",
        "\n",
        "        for record in data['records']:\n",
        "            doi = record.get('doi', 'N/A')\n",
        "            title = record.get('title', 'No title')\n",
        "            abstract = record.get('abstract', 'No abstract')\n",
        "\n",
        "            all_results.append({\n",
        "                \"keyword\": keyword,\n",
        "                \"doi\": doi,\n",
        "                \"title\": title,\n",
        "                \"abstract\": abstract\n",
        "            })\n",
        "\n",
        "            print(f\"DOI: {doi}\")\n",
        "            print(f\"Title: {title}\\n\")\n",
        "    else:\n",
        "        print(\"❌ Error:\", response.status_code, response.text)\n",
        "\n",
        "df = pd.DataFrame(all_results)\n",
        "df.to_csv(\"hasil_crawling.csv\", index=False)\n",
        "print(\"\\n✅ Data berhasil disimpan ke hasil_crawling.csv\")"
      ]
    }
  ],
  "metadata": {
    "colab": {
      "provenance": []
    },
    "kernelspec": {
      "display_name": "Python 3",
      "name": "python3"
    },
    "language_info": {
      "name": "python"
    }
  },
  "nbformat": 4,
  "nbformat_minor": 0
}
